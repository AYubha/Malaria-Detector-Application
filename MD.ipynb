{
  "nbformat": 4,
  "nbformat_minor": 0,
  "metadata": {
    "colab": {
      "name": "ml.ipynb",
      "provenance": [],
      "collapsed_sections": [],
      "mount_file_id": "1csmaaWbg7vFAWokP1-1t9mfik4U7Weeg",
      "authorship_tag": "ABX9TyMaB6nPMBV4AeMDyOQVm3P1",
      "include_colab_link": true
    },
    "kernelspec": {
      "name": "python3",
      "display_name": "Python 3"
    }
  },
  "cells": [
    {
      "cell_type": "markdown",
      "metadata": {
        "id": "view-in-github",
        "colab_type": "text"
      },
      "source": [
        "<a href=\"https://colab.research.google.com/github/RiturajSaha/Malaria-Detector-Application/blob/master/MD.ipynb\" target=\"_parent\"><img src=\"https://colab.research.google.com/assets/colab-badge.svg\" alt=\"Open In Colab\"/></a>"
      ]
    },
    {
      "cell_type": "markdown",
      "metadata": {
        "id": "AxaO8OLYIAX0",
        "colab_type": "text"
      },
      "source": [
        "Importng Libraries"
      ]
    },
    {
      "cell_type": "code",
      "metadata": {
        "id": "Z_K9lhKdB1ta",
        "colab_type": "code",
        "outputId": "70e4d191-4219-4cd4-dcc5-93db93cb3a8d",
        "colab": {
          "base_uri": "https://localhost:8080/",
          "height": 35
        }
      },
      "source": [
        "import numpy as np \n",
        "import pandas as pd\n",
        "import os \n",
        "import cv2\n",
        "import matplotlib.pyplot as plt \n",
        "import os\n",
        "from PIL import Image\n",
        "from keras.preprocessing.image import img_to_array\n",
        "from keras.preprocessing.image import load_img\n",
        "from keras.utils import np_utils\n",
        "from tensorflow.python.keras.layers import Dense,Conv2D,Flatten,MaxPooling2D,GlobalAveragePooling2D,Activation,BatchNormalization,Dropout\n",
        "from tensorflow.python.keras import Sequential,backend,optimizers"
      ],
      "execution_count": 0,
      "outputs": [
        {
          "output_type": "stream",
          "text": [
            "Using TensorFlow backend.\n"
          ],
          "name": "stderr"
        }
      ]
    },
    {
      "cell_type": "markdown",
      "metadata": {
        "id": "a9SXe0ySITpn",
        "colab_type": "text"
      },
      "source": [
        "Unzipping Dataset"
      ]
    },
    {
      "cell_type": "code",
      "metadata": {
        "id": "TsvjrWNGT_B_",
        "colab_type": "code",
        "colab": {}
      },
      "source": [
        "from zipfile import ZipFile\n",
        "file_name='/content/drive/My Drive/Colab Notebooks/mldataset.zip'\n",
        "with ZipFile(file_name,'r') as zip:\n",
        "          zip.extractall()"
      ],
      "execution_count": 0,
      "outputs": []
    },
    {
      "cell_type": "markdown",
      "metadata": {
        "id": "2E8D87v6Iac6",
        "colab_type": "text"
      },
      "source": [
        "Converting Images to Array"
      ]
    },
    {
      "cell_type": "code",
      "metadata": {
        "id": "d-8zz4TAVqjJ",
        "colab_type": "code",
        "colab": {}
      },
      "source": [
        "data = []\n",
        "labels = []\n",
        "\n",
        "for img in parasitized_data:\n",
        "    try:\n",
        "        img_read = plt.imread('/content/mldataset/Parasitized/' + \"/\" + img)\n",
        "        img_resize = cv2.resize(img_read, (50, 50))\n",
        "        img_array = img_to_array(img_resize)\n",
        "        data.append(img_array)\n",
        "        labels.append(1)\n",
        "    except:\n",
        "        None\n",
        "        \n",
        "for img in uninfected_data:\n",
        "    try:\n",
        "        img_read = plt.imread('/content/mldataset/Uninfected' + \"/\" + img)\n",
        "        img_resize = cv2.resize(img_read, (50, 50))\n",
        "        img_array = img_to_array(img_resize)\n",
        "        data.append(img_array)\n",
        "        labels.append(0)\n",
        "    except:\n",
        "        None\n",
        "\n",
        "image_data = np.array(data)\n",
        "labels = np.array(labels)"
      ],
      "execution_count": 0,
      "outputs": []
    },
    {
      "cell_type": "markdown",
      "metadata": {
        "id": "VPFsBmD9IgRT",
        "colab_type": "text"
      },
      "source": [
        "Dividng into train and test"
      ]
    },
    {
      "cell_type": "code",
      "metadata": {
        "id": "KeFgC_oqV_nQ",
        "colab_type": "code",
        "colab": {}
      },
      "source": [
        "from sklearn.model_selection import train_test_split\n",
        "x_train, x_test, y_train, y_test = train_test_split(image_data, labels, test_size = 0.2, random_state = 0)\n",
        "\n",
        "y_train = np_utils.to_categorical(y_train, num_classes = 2)\n",
        "y_test = np_utils.to_categorical(y_test, num_classes = 2)"
      ],
      "execution_count": 0,
      "outputs": []
    },
    {
      "cell_type": "markdown",
      "metadata": {
        "id": "uvIuAxgMIvQt",
        "colab_type": "text"
      },
      "source": [
        "Building the CNN model"
      ]
    },
    {
      "cell_type": "code",
      "metadata": {
        "id": "Uru2WrqzWIyY",
        "colab_type": "code",
        "outputId": "9d6ef1c3-4f74-4140-9026-9ce8037f63cf",
        "colab": {
          "base_uri": "https://localhost:8080/",
          "height": 745
        }
      },
      "source": [
        "height, width, classes, channels=50,50,2,3\n",
        "model = Sequential()\n",
        "    \n",
        "inputShape = (height, width, channels)\n",
        "chanDim = -1\n",
        "    \n",
        "if backend.image_data_format() == 'channels_first':\n",
        "          inputShape = (channels, height, width)\n",
        "model.add(Conv2D(32, (3,3), activation = 'relu', input_shape = inputShape))\n",
        "model.add(MaxPooling2D(2,2))\n",
        "model.add(BatchNormalization(axis = chanDim))\n",
        "model.add(Dropout(0.2))\n",
        "\n",
        "model.add(Conv2D(32, (3,3), activation = 'relu'))\n",
        "model.add(MaxPooling2D(2,2))\n",
        "model.add(BatchNormalization(axis = chanDim))\n",
        "model.add(Dropout(0.2))\n",
        "\n",
        "model.add(Conv2D(32, (3,3), activation = 'relu'))\n",
        "model.add(MaxPooling2D(2,2))\n",
        "model.add(BatchNormalization(axis = chanDim))\n",
        "model.add(Dropout(0.2))\n",
        "\n",
        "model.add(Flatten())\n",
        "    \n",
        "model.add(Dense(512, activation = 'relu'))\n",
        "model.add(BatchNormalization(axis = chanDim))\n",
        "model.add(Dropout(0.5))\n",
        "model.add(Dense(classes, activation = 'softmax'))\n",
        "    \n",
        "model.summary()"
      ],
      "execution_count": 0,
      "outputs": [
        {
          "output_type": "stream",
          "text": [
            "Model: \"sequential\"\n",
            "_________________________________________________________________\n",
            "Layer (type)                 Output Shape              Param #   \n",
            "=================================================================\n",
            "conv2d (Conv2D)              (None, 48, 48, 32)        896       \n",
            "_________________________________________________________________\n",
            "max_pooling2d (MaxPooling2D) (None, 24, 24, 32)        0         \n",
            "_________________________________________________________________\n",
            "batch_normalization (BatchNo (None, 24, 24, 32)        128       \n",
            "_________________________________________________________________\n",
            "dropout (Dropout)            (None, 24, 24, 32)        0         \n",
            "_________________________________________________________________\n",
            "conv2d_1 (Conv2D)            (None, 22, 22, 32)        9248      \n",
            "_________________________________________________________________\n",
            "max_pooling2d_1 (MaxPooling2 (None, 11, 11, 32)        0         \n",
            "_________________________________________________________________\n",
            "batch_normalization_1 (Batch (None, 11, 11, 32)        128       \n",
            "_________________________________________________________________\n",
            "dropout_1 (Dropout)          (None, 11, 11, 32)        0         \n",
            "_________________________________________________________________\n",
            "conv2d_2 (Conv2D)            (None, 9, 9, 32)          9248      \n",
            "_________________________________________________________________\n",
            "max_pooling2d_2 (MaxPooling2 (None, 4, 4, 32)          0         \n",
            "_________________________________________________________________\n",
            "batch_normalization_2 (Batch (None, 4, 4, 32)          128       \n",
            "_________________________________________________________________\n",
            "dropout_2 (Dropout)          (None, 4, 4, 32)          0         \n",
            "_________________________________________________________________\n",
            "flatten (Flatten)            (None, 512)               0         \n",
            "_________________________________________________________________\n",
            "dense (Dense)                (None, 512)               262656    \n",
            "_________________________________________________________________\n",
            "batch_normalization_3 (Batch (None, 512)               2048      \n",
            "_________________________________________________________________\n",
            "dropout_3 (Dropout)          (None, 512)               0         \n",
            "_________________________________________________________________\n",
            "dense_1 (Dense)              (None, 2)                 1026      \n",
            "=================================================================\n",
            "Total params: 285,506\n",
            "Trainable params: 284,290\n",
            "Non-trainable params: 1,216\n",
            "_________________________________________________________________\n"
          ],
          "name": "stdout"
        }
      ]
    },
    {
      "cell_type": "markdown",
      "metadata": {
        "id": "B3NBuKLrJOVZ",
        "colab_type": "text"
      },
      "source": [
        "Compiling the model"
      ]
    },
    {
      "cell_type": "code",
      "metadata": {
        "id": "qieD7ZErWNZe",
        "colab_type": "code",
        "colab": {}
      },
      "source": [
        "model.compile(loss = 'categorical_crossentropy', optimizer = 'adam', metrics = ['accuracy'])"
      ],
      "execution_count": 0,
      "outputs": []
    },
    {
      "cell_type": "markdown",
      "metadata": {
        "id": "pl5mWgvxJZ5T",
        "colab_type": "text"
      },
      "source": [
        "Fitting the model"
      ]
    },
    {
      "cell_type": "code",
      "metadata": {
        "id": "ncKXN3QEWPtB",
        "colab_type": "code",
        "outputId": "e93252c4-2f21-4234-e1c3-be23821bd6fe",
        "colab": {
          "base_uri": "https://localhost:8080/",
          "height": 901
        }
      },
      "source": [
        "model.fit(x_train, y_train, epochs = 25, batch_size = 32)"
      ],
      "execution_count": 0,
      "outputs": [
        {
          "output_type": "stream",
          "text": [
            "Epoch 1/25\n",
            "689/689 [==============================] - 68s 99ms/step - loss: 0.5061 - accuracy: 0.7930\n",
            "Epoch 2/25\n",
            "689/689 [==============================] - 68s 99ms/step - loss: 0.2120 - accuracy: 0.9246\n",
            "Epoch 3/25\n",
            "689/689 [==============================] - 68s 99ms/step - loss: 0.1803 - accuracy: 0.9374\n",
            "Epoch 4/25\n",
            "689/689 [==============================] - 69s 100ms/step - loss: 0.1718 - accuracy: 0.9408\n",
            "Epoch 5/25\n",
            "689/689 [==============================] - 71s 103ms/step - loss: 0.1628 - accuracy: 0.9458\n",
            "Epoch 6/25\n",
            "689/689 [==============================] - 69s 100ms/step - loss: 0.1553 - accuracy: 0.9484\n",
            "Epoch 7/25\n",
            "689/689 [==============================] - 69s 100ms/step - loss: 0.1555 - accuracy: 0.9498\n",
            "Epoch 8/25\n",
            "689/689 [==============================] - 69s 99ms/step - loss: 0.1533 - accuracy: 0.9507\n",
            "Epoch 9/25\n",
            "689/689 [==============================] - 68s 99ms/step - loss: 0.1513 - accuracy: 0.9519\n",
            "Epoch 10/25\n",
            "689/689 [==============================] - 68s 99ms/step - loss: 0.1452 - accuracy: 0.9537\n",
            "Epoch 11/25\n",
            "689/689 [==============================] - 68s 99ms/step - loss: 0.1440 - accuracy: 0.9545\n",
            "Epoch 12/25\n",
            "689/689 [==============================] - 68s 98ms/step - loss: 0.1385 - accuracy: 0.9545\n",
            "Epoch 13/25\n",
            "689/689 [==============================] - 68s 99ms/step - loss: 0.1436 - accuracy: 0.9531\n",
            "Epoch 14/25\n",
            "689/689 [==============================] - 70s 102ms/step - loss: 0.1374 - accuracy: 0.9540\n",
            "Epoch 15/25\n",
            "689/689 [==============================] - 68s 99ms/step - loss: 0.1337 - accuracy: 0.9560\n",
            "Epoch 16/25\n",
            "689/689 [==============================] - 68s 99ms/step - loss: 0.1360 - accuracy: 0.9551\n",
            "Epoch 17/25\n",
            "689/689 [==============================] - 68s 99ms/step - loss: 0.1348 - accuracy: 0.9570\n",
            "Epoch 18/25\n",
            "689/689 [==============================] - 69s 99ms/step - loss: 0.1291 - accuracy: 0.9571\n",
            "Epoch 19/25\n",
            "689/689 [==============================] - 68s 99ms/step - loss: 0.1326 - accuracy: 0.9564\n",
            "Epoch 20/25\n",
            "689/689 [==============================] - 69s 100ms/step - loss: 0.1288 - accuracy: 0.9585\n",
            "Epoch 21/25\n",
            "689/689 [==============================] - 69s 100ms/step - loss: 0.1278 - accuracy: 0.9592\n",
            "Epoch 22/25\n",
            "689/689 [==============================] - 69s 101ms/step - loss: 0.1269 - accuracy: 0.9578\n",
            "Epoch 23/25\n",
            "689/689 [==============================] - 71s 103ms/step - loss: 0.1278 - accuracy: 0.9576\n",
            "Epoch 24/25\n",
            "689/689 [==============================] - 69s 100ms/step - loss: 0.1193 - accuracy: 0.9601\n",
            "Epoch 25/25\n",
            "689/689 [==============================] - 69s 100ms/step - loss: 0.1229 - accuracy: 0.9581\n"
          ],
          "name": "stdout"
        },
        {
          "output_type": "execute_result",
          "data": {
            "text/plain": [
              "<tensorflow.python.keras.callbacks.History at 0x7f9bf22f61d0>"
            ]
          },
          "metadata": {
            "tags": []
          },
          "execution_count": 12
        }
      ]
    },
    {
      "cell_type": "markdown",
      "metadata": {
        "id": "yBhqS3AYJnwO",
        "colab_type": "text"
      },
      "source": [
        "Evaluating the model"
      ]
    },
    {
      "cell_type": "code",
      "metadata": {
        "id": "LwJROPlkWSTe",
        "colab_type": "code",
        "outputId": "7b15115d-9b90-43eb-903a-e4cfb3be39b3",
        "colab": {
          "base_uri": "https://localhost:8080/",
          "height": 69
        }
      },
      "source": [
        "predict = model.evaluate(x_test, y_test)\n",
        "print(\"Loss: \",predict[0])\n",
        "print(\"Accuracy: \",predict[1]*100)"
      ],
      "execution_count": 0,
      "outputs": [
        {
          "output_type": "stream",
          "text": [
            "173/173 [==============================] - 5s 27ms/step - loss: 0.1457 - accuracy: 0.9521\n",
            "Loss:  0.14572061598300934\n",
            "Accuracy:  95.21045088768005\n"
          ],
          "name": "stdout"
        }
      ]
    },
    {
      "cell_type": "markdown",
      "metadata": {
        "id": "3mP1l8VKfqkV",
        "colab_type": "text"
      },
      "source": [
        "Saving model"
      ]
    },
    {
      "cell_type": "code",
      "metadata": {
        "id": "0DDVnynGhGiQ",
        "colab_type": "code",
        "outputId": "4ba96277-d8cf-4d32-ad25-9e95f4136f71",
        "colab": {
          "base_uri": "https://localhost:8080/",
          "height": 763
        }
      },
      "source": [
        "#model.save('a95e25model.h5')\n",
        "%cd /content/drive/My Drive/Colab Notebooks/\n",
        "from tensorflow.keras.models import load_model\n",
        "model = load_model('a95e25model.h5')\n",
        "model.summary()\n"
      ],
      "execution_count": 0,
      "outputs": [
        {
          "output_type": "stream",
          "text": [
            "/\n",
            "Model: \"sequential\"\n",
            "_________________________________________________________________\n",
            "Layer (type)                 Output Shape              Param #   \n",
            "=================================================================\n",
            "conv2d (Conv2D)              (None, 48, 48, 32)        896       \n",
            "_________________________________________________________________\n",
            "max_pooling2d (MaxPooling2D) (None, 24, 24, 32)        0         \n",
            "_________________________________________________________________\n",
            "batch_normalization (BatchNo (None, 24, 24, 32)        128       \n",
            "_________________________________________________________________\n",
            "dropout (Dropout)            (None, 24, 24, 32)        0         \n",
            "_________________________________________________________________\n",
            "conv2d_1 (Conv2D)            (None, 22, 22, 32)        9248      \n",
            "_________________________________________________________________\n",
            "max_pooling2d_1 (MaxPooling2 (None, 11, 11, 32)        0         \n",
            "_________________________________________________________________\n",
            "batch_normalization_1 (Batch (None, 11, 11, 32)        128       \n",
            "_________________________________________________________________\n",
            "dropout_1 (Dropout)          (None, 11, 11, 32)        0         \n",
            "_________________________________________________________________\n",
            "conv2d_2 (Conv2D)            (None, 9, 9, 32)          9248      \n",
            "_________________________________________________________________\n",
            "max_pooling2d_2 (MaxPooling2 (None, 4, 4, 32)          0         \n",
            "_________________________________________________________________\n",
            "batch_normalization_2 (Batch (None, 4, 4, 32)          128       \n",
            "_________________________________________________________________\n",
            "dropout_2 (Dropout)          (None, 4, 4, 32)          0         \n",
            "_________________________________________________________________\n",
            "flatten (Flatten)            (None, 512)               0         \n",
            "_________________________________________________________________\n",
            "dense (Dense)                (None, 512)               262656    \n",
            "_________________________________________________________________\n",
            "batch_normalization_3 (Batch (None, 512)               2048      \n",
            "_________________________________________________________________\n",
            "dropout_3 (Dropout)          (None, 512)               0         \n",
            "_________________________________________________________________\n",
            "dense_1 (Dense)              (None, 2)                 1026      \n",
            "=================================================================\n",
            "Total params: 285,506\n",
            "Trainable params: 284,290\n",
            "Non-trainable params: 1,216\n",
            "_________________________________________________________________\n"
          ],
          "name": "stdout"
        }
      ]
    },
    {
      "cell_type": "code",
      "metadata": {
        "id": "ZOSHzniIrEww",
        "colab_type": "code",
        "colab": {}
      },
      "source": [
        
      ],
      "execution_count": 0,
      "outputs": []
    }
  ]
}
